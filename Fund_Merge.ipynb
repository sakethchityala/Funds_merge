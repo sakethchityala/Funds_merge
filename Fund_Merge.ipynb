{
 "cells": [
  {
   "cell_type": "code",
   "execution_count": null,
   "metadata": {},
   "outputs": [
    {
     "name": "stdout",
     "output_type": "stream",
     "text": [
      "add file1\n"
     ]
    }
   ],
   "source": [
    "import pandas as pd\n",
    "\n",
    "def merge_funds(file1,file2):\n",
    "    File1 = pd.read_stata(file1)\n",
    "    File2 = pd.read_stata(file2)\n",
    "    fund_ids = list(File1['fund_id'].unique())\n",
    "    years = list(File1['year'].unique())\n",
    "    app = []\n",
    "    for i in fund_ids:\n",
    "        for year in years:\n",
    "            A = File1.where((File1['fund_id'] == i) & (File1['year'] == year)).dropna()\n",
    "            B = File2.where(File2['year'] == year).dropna()\n",
    "            A = A[['stock','value']]\n",
    "            B = B[['stock','value']]\n",
    "            Fund1_1999 = pd.merge(A, B, on='stock', how='outer').fillna(0)\n",
    "            Fund1_1999['fund_id'] = i\n",
    "            Fund1_1999['year'] = year\n",
    "            df = Fund1_1999[['fund_id','year','stock','value_x','value_y']]\n",
    "            app.append(df)\n",
    "            Dat = pd.concat(app).reset_index(drop=True)\n",
    "            Dat = Dat.set_index('fund_id')\n",
    "    return Dat \n",
    "print('add file1')\n",
    "file1 = input()\n",
    "print('add file2')\n",
    "file2 = input()\n",
    "merge_funds(file1,file2)"
   ]
  },
  {
   "cell_type": "code",
   "execution_count": null,
   "metadata": {},
   "outputs": [],
   "source": []
  }
 ],
 "metadata": {
  "kernelspec": {
   "display_name": "Python 3",
   "language": "python",
   "name": "python3"
  },
  "language_info": {
   "codemirror_mode": {
    "name": "ipython",
    "version": 3
   },
   "file_extension": ".py",
   "mimetype": "text/x-python",
   "name": "python",
   "nbconvert_exporter": "python",
   "pygments_lexer": "ipython3",
   "version": "3.7.3"
  }
 },
 "nbformat": 4,
 "nbformat_minor": 2
}
